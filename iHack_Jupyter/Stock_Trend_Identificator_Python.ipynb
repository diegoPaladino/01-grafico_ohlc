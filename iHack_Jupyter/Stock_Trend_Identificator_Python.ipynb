{
 "cells": [
  {
   "cell_type": "code",
   "execution_count": 4,
   "metadata": {
    "ExecuteTime": {
     "end_time": "2020-09-24T21:43:10.154068Z",
     "start_time": "2020-09-24T21:42:58.308839Z"
    }
   },
   "outputs": [
    {
     "name": "stdout",
     "output_type": "stream",
     "text": [
      "Collecting investpy\n",
      "  Using cached investpy-1.0.tar.gz (4.4 MB)\n",
      "Collecting Unidecode>=1.1.1\n",
      "  Using cached Unidecode-1.1.1-py2.py3-none-any.whl (238 kB)\n",
      "Requirement already satisfied: setuptools>=41.2.0 in c:\\users\\diego\\anaconda3\\lib\\site-packages (from investpy) (49.2.0.post20200714)\n",
      "Requirement already satisfied: numpy>=1.17.2 in c:\\users\\diego\\anaconda3\\lib\\site-packages (from investpy) (1.18.5)\n",
      "Requirement already satisfied: pandas>=0.25.1 in c:\\users\\diego\\anaconda3\\lib\\site-packages (from investpy) (1.0.5)\n",
      "Requirement already satisfied: lxml>=4.4.1 in c:\\users\\diego\\anaconda3\\lib\\site-packages (from investpy) (4.5.2)\n",
      "Requirement already satisfied: requests>=2.22.0 in c:\\users\\diego\\anaconda3\\lib\\site-packages (from investpy) (2.24.0)\n",
      "Requirement already satisfied: pytz>=2019.3 in c:\\users\\diego\\anaconda3\\lib\\site-packages (from investpy) (2020.1)\n",
      "Requirement already satisfied: python-dateutil>=2.6.1 in c:\\users\\diego\\anaconda3\\lib\\site-packages (from pandas>=0.25.1->investpy) (2.8.1)\n",
      "Requirement already satisfied: urllib3!=1.25.0,!=1.25.1,<1.26,>=1.21.1 in c:\\users\\diego\\anaconda3\\lib\\site-packages (from requests>=2.22.0->investpy) (1.25.9)\n",
      "Requirement already satisfied: certifi>=2017.4.17 in c:\\users\\diego\\anaconda3\\lib\\site-packages (from requests>=2.22.0->investpy) (2020.6.20)\n",
      "Requirement already satisfied: idna<3,>=2.5 in c:\\users\\diego\\anaconda3\\lib\\site-packages (from requests>=2.22.0->investpy) (2.10)\n",
      "Requirement already satisfied: chardet<4,>=3.0.2 in c:\\users\\diego\\anaconda3\\lib\\site-packages (from requests>=2.22.0->investpy) (3.0.4)\n",
      "Requirement already satisfied: six>=1.5 in c:\\users\\diego\\appdata\\roaming\\python\\python38\\site-packages (from python-dateutil>=2.6.1->pandas>=0.25.1->investpy) (1.15.0)\n",
      "Building wheels for collected packages: investpy\n",
      "  Building wheel for investpy (setup.py): started\n",
      "  Building wheel for investpy (setup.py): finished with status 'done'\n",
      "  Created wheel for investpy: filename=investpy-1.0-py3-none-any.whl size=4465845 sha256=00c8f6f0a4f0b6cf15a1d8bab4d4c1d9594ea1c0584df35159e98b964b4d15b1\n",
      "  Stored in directory: c:\\users\\diego\\appdata\\local\\pip\\cache\\wheels\\6a\\1d\\35\\76f15450b4c9c3f5ba40a5b037281874978b2093da7d482e9b\n",
      "Successfully built investpy\n",
      "Installing collected packages: Unidecode, investpy\n",
      "Successfully installed Unidecode-1.1.1 investpy-1.0\n"
     ]
    }
   ],
   "source": [
    "!pip install investpy"
   ]
  },
  {
   "cell_type": "code",
   "execution_count": 5,
   "metadata": {
    "ExecuteTime": {
     "end_time": "2020-09-24T21:43:43.516264Z",
     "start_time": "2020-09-24T21:43:39.485209Z"
    }
   },
   "outputs": [
    {
     "name": "stdout",
     "output_type": "stream",
     "text": [
      "Collecting mpl_finance\n",
      "  Using cached mpl_finance-0.10.1-py3-none-any.whl (8.4 kB)\n",
      "Requirement already satisfied: matplotlib in c:\\users\\diego\\anaconda3\\lib\\site-packages (from mpl_finance) (3.2.2)\n",
      "Requirement already satisfied: numpy>=1.11 in c:\\users\\diego\\anaconda3\\lib\\site-packages (from matplotlib->mpl_finance) (1.18.5)\n",
      "Requirement already satisfied: kiwisolver>=1.0.1 in c:\\users\\diego\\anaconda3\\lib\\site-packages (from matplotlib->mpl_finance) (1.2.0)\n",
      "Requirement already satisfied: python-dateutil>=2.1 in c:\\users\\diego\\anaconda3\\lib\\site-packages (from matplotlib->mpl_finance) (2.8.1)\n",
      "Requirement already satisfied: pyparsing!=2.0.4,!=2.1.2,!=2.1.6,>=2.0.1 in c:\\users\\diego\\anaconda3\\lib\\site-packages (from matplotlib->mpl_finance) (2.4.7)\n",
      "Requirement already satisfied: cycler>=0.10 in c:\\users\\diego\\anaconda3\\lib\\site-packages (from matplotlib->mpl_finance) (0.10.0)\n",
      "Requirement already satisfied: six>=1.5 in c:\\users\\diego\\appdata\\roaming\\python\\python38\\site-packages (from python-dateutil>=2.1->matplotlib->mpl_finance) (1.15.0)\n",
      "Installing collected packages: mpl-finance\n",
      "Successfully installed mpl-finance-0.10.1\n"
     ]
    }
   ],
   "source": [
    "!pip install mpl_finance"
   ]
  },
  {
   "cell_type": "code",
   "execution_count": 8,
   "metadata": {
    "ExecuteTime": {
     "end_time": "2020-09-24T23:45:15.375567Z",
     "start_time": "2020-09-24T23:45:11.635787Z"
    }
   },
   "outputs": [
    {
     "name": "stdout",
     "output_type": "stream",
     "text": [
      "            Abertura  Maximo  Minimo  Fechamento    Volume Moeda      Data  \\\n",
      "Data                                                                         \n",
      "2020-01-02     36.05   36.78   35.77       36.78  20666100   BRL  737426.0   \n",
      "2020-01-03     36.26   36.98   36.22       36.39  24891400   BRL  737427.0   \n",
      "2020-01-06     36.31   36.34   35.69       35.85  22294700   BRL  737430.0   \n",
      "2020-01-07     35.85   36.01   35.02       35.02  20000900   BRL  737431.0   \n",
      "2020-01-08     35.25   35.60   34.45       34.45  25980900   BRL  737432.0   \n",
      "...              ...     ...     ...         ...       ...   ...       ...   \n",
      "2020-09-18     23.60   23.60   23.03       23.10  38507500   BRL  737686.0   \n",
      "2020-09-21     22.70   23.01   22.45       22.90  36482700   BRL  737689.0   \n",
      "2020-09-22     22.85   23.30   22.79       23.10  26051000   BRL  737690.0   \n",
      "2020-09-23     22.92   23.13   22.47       22.48  24442900   BRL  737691.0   \n",
      "2020-09-24     22.51   23.33   22.42       23.03  39307800   BRL  737692.0   \n",
      "\n",
      "                ema21  \n",
      "Data                   \n",
      "2020-01-02  36.780000  \n",
      "2020-01-03  36.744545  \n",
      "2020-01-06  36.663223  \n",
      "2020-01-07  36.513839  \n",
      "2020-01-08  36.326217  \n",
      "...               ...  \n",
      "2020-09-18  24.181132  \n",
      "2020-09-21  24.064666  \n",
      "2020-09-22  23.976969  \n",
      "2020-09-23  23.840881  \n",
      "2020-09-24  23.767164  \n",
      "\n",
      "[184 rows x 8 columns]\n",
      "\n",
      "ITUB4 não está em tendência de alta!\n"
     ]
    },
    {
     "data": {
      "image/png": "[encoded data removed]",
      "text/plain": [
       "<Figure size 720x360 with 1 Axes>"
      ]
     },
     "metadata": {
      "needs_background": "light"
     },
     "output_type": "display_data"
    }
   ],
   "source": [
    "#Stock_Trend_Identificator_Python\n",
    "#title of tutorial: COMO IDENTIFICAR AÇÕES EM TENDÊNCIA DE ALTA AUTOMATICAMENTE | Análise Técnica e Python #3\n",
    "#link of tutorial: https://www.youtube.com/watch?v=i6x8GaabMa0\n",
    "#link of iHack page: https://ihack.com.br/at_003.php\n",
    "\n",
    "\n",
    "import investpy\n",
    "import matplotlib.pyplot as plt\n",
    "import matplotlib.dates as mdates\n",
    "from mpl_finance import candlestick_ohlc\n",
    "from mpl_finance import candlestick_ohlc\n",
    "\n",
    "acao2 = 'ITUB4'\n",
    "\n",
    "df_bolsa = investpy.get_stock_historical_data(stock=acao2,\n",
    "                                          country='brazil',\n",
    "                                          from_date='01/01/2020',\n",
    "                                          to_date='24/09/2020')\n",
    "\n",
    "df_bolsa.index.names = ['Data']\n",
    "df_bolsa.columns = ['Abertura', 'Maximo', 'Minimo', 'Fechamento', 'Volume', 'Moeda']\n",
    "\n",
    "df_ = df_bolsa.copy(deep=True)\n",
    "\n",
    "df_['Data'] = df_.index.map(mdates.date2num)\n",
    "\n",
    "# compute the simple moving average\n",
    "df_['ema21'] = df_['Fechamento'].ewm(span=21, adjust=False).mean()\n",
    "\n",
    "print(df_)\n",
    "\n",
    "tendencia_alta=1\n",
    "for i in range(6):\n",
    "  if(df_.ema21[-i-1] < df_.ema21[-i-2]):\n",
    "    tendencia_alta=0\n",
    "\n",
    "print()\n",
    "if(tendencia_alta==1):\n",
    "    print(acao2 + ' está em tendência de alta!')\n",
    "else:\n",
    "    print(acao2 + ' não está em tendência de alta!')\n",
    "\n",
    "##############\n",
    "# Plot Chart #\n",
    "##############\n",
    "\n",
    "\n",
    "ohlc = df_[['Data', 'Abertura', 'Maximo', 'Minimo', 'Fechamento']]\n",
    "\n",
    "\n",
    "f1, ax = plt.subplots(figsize=(10, 5))\n",
    "\n",
    "# plot the candlesticks\n",
    "candlestick_ohlc(ax, ohlc.values, width=.6, colorup='green', colordown='red')\n",
    "ax.xaxis.set_major_formatter(mdates.DateFormatter('%Y-%m'))\n",
    "\n",
    "# plot the moving average lines\n",
    "label_ = acao2.upper() + ' ma21'\n",
    "ax.plot(df_.index, df_['ema21'], color='yellow', label=label_)\n",
    "# ax.plot(df.index, df['ema100'], color = 'purple', label = 'ma100')\n",
    "\n",
    "# other parameters\n",
    "ax.grid(False)\n",
    "ax.legend()\n",
    "\n",
    "plt.title(acao2.upper() + ' : Gráfico Diário')\n",
    "\n",
    "plt.show(block=True)\n",
    "\n",
    "del (df_)"
   ]
  },
  {
   "cell_type": "code",
   "execution_count": null,
   "metadata": {},
   "outputs": [],
   "source": []
  }
 ],
 "metadata": {
  "kernelspec": {
   "display_name": "Python 3",
   "language": "python",
   "name": "python3"
  },
  "language_info": {
   "codemirror_mode": {
    "name": "ipython",
    "version": 3
   },
   "file_extension": ".py",
   "mimetype": "text/x-python",
   "name": "python",
   "nbconvert_exporter": "python",
   "pygments_lexer": "ipython3",
   "version": "3.8.3"
  }
 },
 "nbformat": 4,
 "nbformat_minor": 4
}
